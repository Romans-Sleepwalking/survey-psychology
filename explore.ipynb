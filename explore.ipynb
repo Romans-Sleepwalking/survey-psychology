{
 "cells": [
  {
   "cell_type": "code",
   "id": "initial_id",
   "metadata": {
    "collapsed": true,
    "ExecuteTime": {
     "end_time": "2024-12-19T23:11:52.720423Z",
     "start_time": "2024-12-19T23:11:52.718351Z"
    }
   },
   "source": "import pandas as pd",
   "outputs": [],
   "execution_count": 5
  },
  {
   "metadata": {},
   "cell_type": "markdown",
   "source": "### Read data",
   "id": "3197bb7cdd0cca4b"
  },
  {
   "metadata": {
    "ExecuteTime": {
     "end_time": "2024-12-19T23:11:52.778846Z",
     "start_time": "2024-12-19T23:11:52.735419Z"
    }
   },
   "cell_type": "code",
   "source": [
    "df = pd.read_spss('data.sav')\n",
    "df.info()"
   ],
   "id": "3bdf21e067184fec",
   "outputs": [
    {
     "name": "stdout",
     "output_type": "stream",
     "text": [
      "<class 'pandas.core.frame.DataFrame'>\n",
      "RangeIndex: 103 entries, 0 to 102\n",
      "Columns: 196 entries, Timestamp to SS_new_parnemtiba\n",
      "dtypes: category(73), float64(44), object(79)\n",
      "memory usage: 124.1+ KB\n"
     ]
    }
   ],
   "execution_count": 6
  },
  {
   "metadata": {
    "ExecuteTime": {
     "end_time": "2024-12-19T23:11:52.906414Z",
     "start_time": "2024-12-19T23:11:52.904257Z"
    }
   },
   "cell_type": "code",
   "source": "# df.head(103)",
   "id": "e36ed12618777bd9",
   "outputs": [],
   "execution_count": 7
  },
  {
   "metadata": {
    "ExecuteTime": {
     "end_time": "2024-12-19T23:11:52.925492Z",
     "start_time": "2024-12-19T23:11:52.923708Z"
    }
   },
   "cell_type": "code",
   "source": "###",
   "id": "8d5ddc113601b5b1",
   "outputs": [],
   "execution_count": 8
  }
 ],
 "metadata": {
  "kernelspec": {
   "display_name": "python3-12-survey-psychology",
   "language": "python",
   "name": "python3-12-survey-psychology"
  },
  "language_info": {
   "codemirror_mode": {
    "name": "ipython",
    "version": 2
   },
   "file_extension": ".py",
   "mimetype": "text/x-python",
   "name": "python",
   "nbconvert_exporter": "python",
   "pygments_lexer": "ipython2",
   "version": "2.7.6"
  }
 },
 "nbformat": 4,
 "nbformat_minor": 5
}
